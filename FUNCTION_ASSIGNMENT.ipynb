{
  "nbformat": 4,
  "nbformat_minor": 0,
  "metadata": {
    "colab": {
      "provenance": []
    },
    "kernelspec": {
      "name": "python3",
      "display_name": "Python 3"
    },
    "language_info": {
      "name": "python"
    }
  },
  "cells": [
    {
      "cell_type": "markdown",
      "source": [
        "#**FUNCTION ASSIGNMENT**"
      ],
      "metadata": {
        "id": "lvtu3zC5unLf"
      }
    },
    {
      "cell_type": "markdown",
      "source": [
        "#THEORATICAL QUESTION\n",
        "1. What is the difference between a function and a method in Python ?\n",
        "  - **Functions:**\n",
        "  - **Definition:** A function is a block of code designed to perform a specific task.\n",
        "  - **Calling: **Functions are called by name, like my_function(argument1, argument2).\n",
        "  - **Scope**: Functions can be defined outside of any class, making them independent.\n",
        "  - **Data:** Functions can take data as input (parameters) and can return data (return value).\n",
        "  - **Methods:**\n",
        "  - **Definition:** A method is a function that is defined within a class and is associated with an object (instance of a class).\n",
        "  - **Calling:** Methods are called using dot notation, e.g., my_object.my_method(argument1, argument2).\n",
        "  - **Scope:** Methods are always defined inside a class and are linked to the objects of that class.\n",
        "  - **Data:** Methods are implicitly passed the object on which they are called as the first argument (conventionally named self).\n",
        "\n",
        "2. Explain the concept of function arguments and parameters in Python.\n",
        "    - **Parameters:** These are the variables defined within the parentheses of a function definition (e.g., def my_function(parameter1, parameter2):).\n",
        "They act as placeholders for the values that will be used inside the function.\n",
        "Think of them as the names of the boxes where the function will store the input data.\n",
        "    - **Arguments:**\n",
        "These are the values that are passed to the function when it's called (e.g., my_function(value1, value2)).\n",
        "They provide the actual data that the function will work with.\n",
        "Think of them as the data that gets put into the boxes (parameters).\n",
        "\n",
        "3. What are the different ways to define and call a function in Python ?\n",
        "  - In Python, you define functions using the def keyword, followed by the function name, parentheses for potential arguments, and a colon, then indent the function body. To call a function, simply use its name followed by parentheses, optionally with arguments.\n",
        "\n",
        "4.  What is the purpose of the `return` statement in a Python function ?\n",
        "  - The return statement in a Python function serves to terminate the function's execution and send a value back to the caller. This allows the function's output to be used or stored for further processing.\n",
        "\n",
        "5. What are iterators in Python and how do they differ from iterables?\n",
        "  - Here is a list of the differences between Iterable and Iterator in Python. An Iterable is basically an object that any user can iterate over. An Iterator is also an object that helps a user in iterating over another object (that is iterable). We can generate an iterator when we pass the object to the iter() method.\n",
        "\n",
        "6. Explain the concept of generators in Python and how they are defined.\n",
        "  - In Python, a generator is a function that returns an iterator that produces a sequence of values when iterated over.\n",
        "\n",
        "  - Generators are useful when we want to produce a large sequence of values, but we don't want to store all of them in memory at once.\n",
        "\n",
        "  - **Create Python Generator**\n",
        "  - In Python, similar to defining a normal function, we can define a generator function using the def keyword, but instead of the return statement we use the yield statement.\n",
        "  - When the generator function is called, it does not execute the function body immediately. Instead, it returns a generator object that can be iterated over to produce the values.\n",
        "\n",
        "7. What are the advantages of using generators over regular functions ?\n",
        "  - Unlike a regular function, a generator does not return its results all at once. Instead, it yields its values one by one, each time it is called. This makes it possible to generate an infinite sequence of values, as long as there is sufficient memory to store them.\n",
        "\n",
        "8. What is a lambda function in Python and when is it typically used ?\n",
        "  - In Python, a lambda function is a small, anonymous function defined using the lambda keyword, typically used for short, simple operations where a full function definition is unnecessary. They are commonly used with higher-order functions like map, filter, and sorted.\n",
        "\n",
        "9. Explain the purpose and usage of the `map()` function in Python.\n",
        "  - he map() function in Python applies a given function to each item in an iterable (like a list) and returns an iterator that yields the results, effectively \"mapping\" the function across the iterable.\n",
        "\n",
        "10. What is the difference between `map()`, `reduce()`, and `filter()` functions in Python ?\n",
        "  - **map()**\n",
        "\n",
        "  - **Purpose:** Applies a function to every item in an iterable (like a list) and returns a new iterable (map object).\n",
        "  - **Syntax:** map(function, iterable)\n",
        "\n",
        "  - **ilter()**\n",
        "\n",
        "  - **Purpose:** Filters items from an iterable based on a function that returns True or False, returning a new iterable containing only the items for which the function returned True.\n",
        "  - **Syntax:** filter(function, iterable)\n",
        "\n",
        "  - **reduce()**\n",
        "\n",
        "  - **Purpose:** Applies a rolling computation to sequential pairs of values in an iterable, reducing it to a single value. It is not a built-in function in Python 3, so it must be imported from the functools module.\n",
        "  - **Syntax:** reduce(function, iterable[, initializer])"
      ],
      "metadata": {
        "id": "ZyqseYttusKH"
      }
    },
    {
      "cell_type": "markdown",
      "source": [
        "#**PRACTICAL QUESTIONS**"
      ],
      "metadata": {
        "id": "IsOKjMsfx6KX"
      }
    },
    {
      "cell_type": "code",
      "execution_count": null,
      "metadata": {
        "id": "564AlY3quiEg"
      },
      "outputs": [],
      "source": [
        "#1.Write a Python function that takes a list of numbers as input and returns the sum of all even numbers in the list\n",
        "def sum_of_even_numbers(numbers):\n",
        "    # Use list comprehension to filter out even numbers and sum them\n",
        "    return sum(num for num in numbers if num % 2 == 0)\n",
        "\n",
        "# Example usage\n",
        "numbers = [47, 11, 42, 13, 8, 28]\n",
        "result = sum_of_even_numbers(numbers)\n",
        "print(result)  # Output will be the sum of even numbers (42 + 8 + 28 = 78)"
      ]
    },
    {
      "cell_type": "code",
      "source": [
        "#2. Create a Python function that accepts a string and returns the reverse of that string.\n",
        "def reverse_string(input_string):\n",
        "    return input_string[::-1]\n",
        "\n",
        "# Example usage\n",
        "input_string = \"hello\"\n",
        "result = reverse_string(input_string)\n",
        "print(result)  # Output: \"olleh\""
      ],
      "metadata": {
        "id": "FkX15gJ5yK_-"
      },
      "execution_count": null,
      "outputs": []
    },
    {
      "cell_type": "code",
      "source": [
        "#3. Implement a Python function that takes a list of integers and returns a new list containing the squares of each number.\n",
        "def square_numbers(numbers):\n",
        "    return [num ** 2 for num in numbers]\n",
        "\n",
        "# Example usage\n",
        "numbers = [1, 2, 3, 4, 5]\n",
        "squared_numbers = square_numbers(numbers)\n",
        "print(squared_numbers)  # Output: [1, 4, 9, 16, 25]\n"
      ],
      "metadata": {
        "id": "BbSwhtbwyT3u"
      },
      "execution_count": null,
      "outputs": []
    },
    {
      "cell_type": "code",
      "source": [
        "#4.Write a Python function that checks if a given number is prime or not from 1 to 200\n",
        "def is_prime(number):\n",
        "    # Check if the number is less than 2 (not prime)\n",
        "    if number < 2:\n",
        "        return False\n",
        "\n",
        "    # Check for factors from 2 to the square root of the number\n",
        "    for i in range(2, int(number ** 0.5) + 1):\n",
        "        if number % i == 0:\n",
        "            return False\n",
        "\n",
        "    # If no factors were found, the number is prime\n",
        "    return True\n",
        "\n",
        "# Example usage\n",
        "for num in range(1, 201):\n",
        "    if is_prime(num):\n",
        "        print(num)  # Prints all prime numbers from 1 to 200\n"
      ],
      "metadata": {
        "id": "z9ff7DZRygRX"
      },
      "execution_count": null,
      "outputs": []
    },
    {
      "cell_type": "code",
      "source": [
        "#5. Create an iterator class in Python that generates the Fibonacci sequence up to a specified number of terms\n",
        "class FibonacciIterator:\n",
        "    def __init__(self, n):\n",
        "        self.n = n  # Number of terms in the Fibonacci sequence to generate\n",
        "        self.current = 0  # The current index in the sequence\n",
        "        self.prev = 0  # The previous Fibonacci number (F(0))\n",
        "        self.next = 1  # The next Fibonacci number (F(1))\n",
        "\n",
        "    def __iter__(self):\n",
        "        return self  # Return the iterator object itself\n",
        "\n",
        "    def __next__(self):\n",
        "        if self.current < self.n:\n",
        "            # If current index is less than n, return the current Fibonacci number\n",
        "            fib_number = self.prev\n",
        "            self.prev, self.next = self.next, self.prev + self.next  # Update Fibonacci numbers\n",
        "            self.current += 1\n",
        "            return fib_number\n",
        "        else:\n",
        "            # Stop the iteration when the sequence has generated the specified number of terms\n",
        "            raise StopIteration\n",
        "\n",
        "# Example usage\n",
        "n = 10  # Number of terms to generate\n",
        "fibonacci_iter = FibonacciIterator(n)\n",
        "\n",
        "for num in fibonacci_iter:\n",
        "    print(num)\n"
      ],
      "metadata": {
        "id": "_2b1qmrWyntm"
      },
      "execution_count": null,
      "outputs": []
    },
    {
      "cell_type": "code",
      "source": [
        "#6.Write a generator function in Python that yields the powers of 2 up to a given exponent\n",
        "def powers_of_two(exponent):\n",
        "    for i in range(exponent + 1):\n",
        "        yield 2 ** i\n",
        "\n",
        "# Example usage\n",
        "exponent = 5  # Generate powers of 2 up to 2^5\n",
        "for power in powers_of_two(exponent):\n",
        "    print(power)\n"
      ],
      "metadata": {
        "id": "t_NZfHe2yzAu"
      },
      "execution_count": null,
      "outputs": []
    },
    {
      "cell_type": "code",
      "source": [
        "#7.  Implement a generator function that reads a file line by line and yields each line as a string.\n",
        "def read_file_line_by_line(file_path):\n",
        "    with open(file_path, 'r') as file:\n",
        "        for line in file:\n",
        "            yield line.strip()  # Strip newline characters from each line\n",
        "\n",
        "# Example usage\n",
        "file_path = 'example.txt'  # Replace with your file path\n",
        "for line in read_file_line_by_line(file_path):\n",
        "    print(line)\n"
      ],
      "metadata": {
        "id": "N-bWlZtXy6hu"
      },
      "execution_count": null,
      "outputs": []
    },
    {
      "cell_type": "code",
      "source": [
        "#8. Use a lambda function in Python to sort a list of tuples based on the second element of each tuple\n",
        "# List of tuples\n",
        "tuples = [(1, 5), (3, 2), (2, 8), (4, 1)]\n",
        "\n",
        "# Sort the list of tuples based on the second element using a lambda function\n",
        "sorted_tuples = sorted(tuples, key=lambda x: x[1])\n",
        "\n",
        "# Print the sorted list\n",
        "print(sorted_tuples)\n"
      ],
      "metadata": {
        "id": "e6TnfyvHzAwe"
      },
      "execution_count": null,
      "outputs": []
    },
    {
      "cell_type": "code",
      "source": [
        "#9. Write a Python program that uses `map()` to convert a list of temperatures from Celsius to Fahrenheit\n",
        "# Function to convert Celsius to Fahrenheit\n",
        "def celsius_to_fahrenheit(celsius):\n",
        "    return (celsius * 9/5) + 32\n",
        "\n",
        "# List of temperatures in Celsius\n",
        "celsius_temperatures = [0, 20, 25, 30, 35, 40]\n",
        "\n",
        "# Use map() to apply the conversion function to each element in the list\n",
        "fahrenheit_temperatures = list(map(celsius_to_fahrenheit, celsius_temperatures))\n",
        "\n",
        "# Print the results\n",
        "print(fahrenheit_temperatures)\n"
      ],
      "metadata": {
        "id": "Z6y8WfU4zGUu"
      },
      "execution_count": null,
      "outputs": []
    },
    {
      "cell_type": "code",
      "source": [
        "#10. Create a Python program that uses `filter()` to remove all the vowels from a given string.\n",
        "# Function to check if a character is not a vowel\n",
        "def is_not_vowel(char):\n",
        "    vowels = 'aeiouAEIOU'\n",
        "    return char not in vowels\n",
        "\n",
        "# Given string\n",
        "input_string = \"Hello, World!\"\n",
        "\n",
        "# Use filter() to filter out vowels from the string\n",
        "filtered_string = ''.join(filter(is_not_vowel, input_string))\n",
        "\n",
        "# Print the result\n",
        "print(filtered_string)\n"
      ],
      "metadata": {
        "id": "iNmN7M8wzOJG"
      },
      "execution_count": null,
      "outputs": []
    }
  ]
}